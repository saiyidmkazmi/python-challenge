{
 "cells": [
  {
   "cell_type": "code",
   "execution_count": 6,
   "source": [
    "# Modules\r\n",
    "import os\r\n",
    "import csv\r\n",
    "\r\n",
    "# Set path for file\r\n",
    "csvpath = os.path.join('PyBank/Resources/budget_data.csv')\r\n",
    "#print(csvpath)\r\n",
    "\r\n",
    "# Open and read the CSV\r\n",
    "with open(csvpath, newline=\"\") as csvfile:\r\n",
    "    #print(csvreader)\r\n",
    "    \r\n",
    "    # Read header row, print it, set it aside\r\n",
    "    csvreader = csv.reader(csvfile, delimiter=\",\")\r\n",
    "    csv_header = next(csvfile)\r\n",
    "    #print(f\"Header: {csv_header}\")\r\n",
    " \r\n",
    "    # Declare variables as empty lists\r\n",
    "    Months = []\r\n",
    "    Profit_Loss = []\r\n",
    "    Differences = []\r\n",
    "    Greatest_Increase_Date = \"\"\r\n",
    "    Greatest_Decrease_Date = \"\"\r\n",
    "    \r\n",
    "    # Count total number of months the data encapsulates\r\n",
    "    for row in csvreader:\r\n",
    "        Months.append(row[0])   \r\n",
    "        Profit_Loss.append(int(row[1]))\r\n",
    "      \r\n",
    "    \r\n",
    "    # Print Statements\r\n",
    "    print(\"Financial Analysis\")\r\n",
    "    print(\"-------------------------------\")\r\n",
    "    print(\"Total Months: \", len(Months))\r\n",
    "    print(\"Net Total: $\", sum(Profit_Loss))\r\n",
    "    \r\n",
    "\r\n",
    "    for i in range(1, len(Profit_Loss)):\r\n",
    "        \r\n",
    "        # Find average change between months\r\n",
    "        Differences.append(Profit_Loss[i] - Profit_Loss[i-1])\r\n",
    "        \r\n",
    "        # Find average of values\r\n",
    "        Average_Change = sum(Differences) / len(Differences)\r\n",
    "        \r\n",
    "        # Determine greatest increase and date\r\n",
    "        Greatest_Increase = max(Differences)\r\n",
    "        Greatest_Increase_Date = str(Months[Differences.index(max(Differences))])\r\n",
    "        \r\n",
    "        \r\n",
    "        # Determine greatest decrease and date\r\n",
    "        Greatest_Decrease = min(Differences)\r\n",
    "        Greatest_Decrease_Date = str(Months[Differences.index(min(Differences))])\r\n",
    "        \r\n",
    "    # Print Statements\r\n",
    "    print(\"Average Change: $\", round(Average_Change))  \r\n",
    "    print(\"Greatest Increase: \", Greatest_Increase_Date, \"($\", Greatest_Increase,\")\")\r\n",
    "    print(\"Greatest Decrease: \", Greatest_Decrease_Date, \"($\", Greatest_Decrease,\")\")"
   ],
   "outputs": [
    {
     "output_type": "stream",
     "name": "stdout",
     "text": [
      "Financial Analysis\n",
      "-------------------------------\n",
      "Total Months:  86\n",
      "Net Total: $ 38382578\n",
      "Average Change: $ -2315\n",
      "Greatest Increase:  Jan-2012 ($ 1926159 )\n",
      "Greatest Decrease:  Aug-2013 ($ -2196167 )\n"
     ]
    }
   ],
   "metadata": {}
  },
  {
   "cell_type": "code",
   "execution_count": 5,
   "source": [
    "os.chdir('C:\\\\Users\\\\SMKazmi\\\\Resources\\\\python-challenge')"
   ],
   "outputs": [],
   "metadata": {}
  },
  {
   "cell_type": "code",
   "execution_count": null,
   "source": [],
   "outputs": [],
   "metadata": {}
  }
 ],
 "metadata": {
  "orig_nbformat": 4,
  "language_info": {
   "name": "python",
   "version": "3.9.2",
   "mimetype": "text/x-python",
   "codemirror_mode": {
    "name": "ipython",
    "version": 3
   },
   "pygments_lexer": "ipython3",
   "nbconvert_exporter": "python",
   "file_extension": ".py"
  },
  "kernelspec": {
   "name": "python3",
   "display_name": "Python 3.9.2 64-bit"
  },
  "interpreter": {
   "hash": "63fd5069d213b44bf678585dea6b12cceca9941eaf7f819626cde1f2670de90d"
  }
 },
 "nbformat": 4,
 "nbformat_minor": 2
}