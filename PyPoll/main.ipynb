{
 "cells": [
  {
   "cell_type": "code",
   "execution_count": 40,
   "source": [
    "import os \r\n",
    "import csv\r\n",
    "import pandas as pd\r\n",
    "import collections \r\n",
    "from collections import Counter\r\n"
   ],
   "outputs": [],
   "metadata": {}
  },
  {
   "cell_type": "code",
   "execution_count": 44,
   "source": [
    "# Define PyPoll's variables\r\n",
    "candidates = []\r\n",
    "votes_per_candidate = []"
   ],
   "outputs": [],
   "metadata": {}
  },
  {
   "cell_type": "code",
   "execution_count": 60,
   "source": [
    "csvpath = os.path.join('Resources/election_data.csv')\r\n",
    "\r\n",
    "# Open and read csv\r\n",
    "with open(csvpath, newline=\"\") as csvfile:\r\n",
    "\r\n",
    "    csv_reader = csv.reader(csvfile, delimiter=\",\")\r\n",
    "\r\n",
    "    # Read the header row first\r\n",
    "    csv_header = next(csvfile)\r\n",
    "\r\n",
    "    #print(f\"Header: {csv_header}\")\r\n",
    "    # This prints -->> Header: Voter ID,Country,Candidate\r\n",
    "    # Read through each row of data after the header\r\n",
    "    for row in csv_reader:\r\n",
    "\r\n",
    "        candidates.append(row[2])\r\n",
    "\r\n",
    "    # Sort the list by default ascending order\r\n",
    "    sorted_list = sorted(candidates)\r\n",
    "\r\n",
    "    #sorted_list = sorted(voters_candidates, reverse=True) \r\n",
    "    #sorted_list.sort(reverse=True) \r\n",
    "\r\n",
    "    #for key, group in groupby(sorted_list):\r\n",
    "    \r\n",
    "\r\n",
    "    #count votes per candidate in most common outcome order and append to a list\r\n",
    "    count_candidate = Counter (sorted_list) \r\n",
    "    votes_per_candidate.append(count_candidate.most_common())\r\n",
    "\r\n",
    "    # calculate the percentage of votes per candicate in 3 digital points\r\n",
    "    for item in votes_per_candidate:\r\n",
    "       \r\n",
    "        first = format((item[0][1])*100/(sum(count_candidate.values())),'.3f')\r\n",
    "        second = format((item[1][1])*100/(sum(count_candidate.values())),'.3f')\r\n",
    "        third = format((item[2][1])*100/(sum(count_candidate.values())),'.3f')\r\n",
    "        fourth = format((item[3][1])*100/(sum(count_candidate.values())),'.3f')\r\n",
    "\r\n",
    "    # Print Statements\r\n",
    "    print(\"Election Results\")\r\n",
    "    print(\"-------------------------------\")\r\n",
    "    print(f\"Total Votes:  {len(sorted_list)}\")\r\n",
    "    print(\"-------------------------------\")\r\n",
    "    print(f\"Khan: {first}% ${format((item[0][1]))}\")\r\n",
    "    print(f\"Correy: {second}% ${format((item[1][1]))}\")\r\n",
    "    print(f\"Li: {third}% ${format((item[2][1]))}\")\r\n",
    "    print(f\"O'Tooley: {fourth}% ${format((item[3][1]))}\")\r\n",
    "    print(\"-------------------------------\")\r\n",
    "    print(\"Winner: Khan\")\r\n",
    "    #print(c.most_common())\r\n",
    "    #print(c.values())\r\n",
    "    #print(c.keys())\r\n",
    "    #print(sum(c.values()))"
   ],
   "outputs": [
    {
     "output_type": "stream",
     "name": "stdout",
     "text": [
      "Election Results\n",
      "-------------------------------\n",
      "Total Votes:  17605005\n",
      "-------------------------------\n",
      "Khan: 63.000% $11091155\n",
      "Correy: 20.000% $3521000\n",
      "Li: 14.000% $2464700\n",
      "O'Tooley: 3.000% $528150\n",
      "-------------------------------\n",
      "Winner: Khan\n"
     ]
    }
   ],
   "metadata": {}
  }
 ],
 "metadata": {
  "orig_nbformat": 4,
  "language_info": {
   "name": "python",
   "version": "3.9.2",
   "mimetype": "text/x-python",
   "codemirror_mode": {
    "name": "ipython",
    "version": 3
   },
   "pygments_lexer": "ipython3",
   "nbconvert_exporter": "python",
   "file_extension": ".py"
  },
  "kernelspec": {
   "name": "python3",
   "display_name": "Python 3.9.2 64-bit"
  },
  "interpreter": {
   "hash": "63fd5069d213b44bf678585dea6b12cceca9941eaf7f819626cde1f2670de90d"
  }
 },
 "nbformat": 4,
 "nbformat_minor": 2
}