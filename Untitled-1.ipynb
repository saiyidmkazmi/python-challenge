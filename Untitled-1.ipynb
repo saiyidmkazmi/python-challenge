{
 "cells": [
  {
   "cell_type": "code",
   "execution_count": 30,
   "source": [
    "import os\r\n",
    "import pandas as pd\r\n",
    "import csv"
   ],
   "outputs": [],
   "metadata": {}
  },
  {
   "cell_type": "code",
   "execution_count": 31,
   "source": [
    "os.getcwd()"
   ],
   "outputs": [
    {
     "output_type": "execute_result",
     "data": {
      "text/plain": [
       "'c:\\\\Users\\\\SMKazmi\\\\Resources\\\\python-challenge'"
      ]
     },
     "metadata": {},
     "execution_count": 31
    }
   ],
   "metadata": {}
  },
  {
   "cell_type": "code",
   "execution_count": 32,
   "source": [
    "bank_df = pd.read_csv('PyBank/Resources/budget_data.csv')\r\n",
    "bank_df.head()"
   ],
   "outputs": [
    {
     "output_type": "execute_result",
     "data": {
      "text/plain": [
       "       Date  Profit/Losses\n",
       "0  Jan-2010         867884\n",
       "1  Feb-2010         984655\n",
       "2  Mar-2010         322013\n",
       "3  Apr-2010         -69417\n",
       "4  May-2010         310503"
      ],
      "text/html": [
       "<div>\n",
       "<style scoped>\n",
       "    .dataframe tbody tr th:only-of-type {\n",
       "        vertical-align: middle;\n",
       "    }\n",
       "\n",
       "    .dataframe tbody tr th {\n",
       "        vertical-align: top;\n",
       "    }\n",
       "\n",
       "    .dataframe thead th {\n",
       "        text-align: right;\n",
       "    }\n",
       "</style>\n",
       "<table border=\"1\" class=\"dataframe\">\n",
       "  <thead>\n",
       "    <tr style=\"text-align: right;\">\n",
       "      <th></th>\n",
       "      <th>Date</th>\n",
       "      <th>Profit/Losses</th>\n",
       "    </tr>\n",
       "  </thead>\n",
       "  <tbody>\n",
       "    <tr>\n",
       "      <th>0</th>\n",
       "      <td>Jan-2010</td>\n",
       "      <td>867884</td>\n",
       "    </tr>\n",
       "    <tr>\n",
       "      <th>1</th>\n",
       "      <td>Feb-2010</td>\n",
       "      <td>984655</td>\n",
       "    </tr>\n",
       "    <tr>\n",
       "      <th>2</th>\n",
       "      <td>Mar-2010</td>\n",
       "      <td>322013</td>\n",
       "    </tr>\n",
       "    <tr>\n",
       "      <th>3</th>\n",
       "      <td>Apr-2010</td>\n",
       "      <td>-69417</td>\n",
       "    </tr>\n",
       "    <tr>\n",
       "      <th>4</th>\n",
       "      <td>May-2010</td>\n",
       "      <td>310503</td>\n",
       "    </tr>\n",
       "  </tbody>\n",
       "</table>\n",
       "</div>"
      ]
     },
     "metadata": {},
     "execution_count": 32
    }
   ],
   "metadata": {}
  },
  {
   "cell_type": "code",
   "execution_count": 33,
   "source": [
    "PyBank = os.path.join('PyBank/Resources/budget_data.csv')\r\n",
    "PyBank"
   ],
   "outputs": [
    {
     "output_type": "execute_result",
     "data": {
      "text/plain": [
       "'PyBank/Resources/budget_data.csv'"
      ]
     },
     "metadata": {},
     "execution_count": 33
    }
   ],
   "metadata": {}
  },
  {
   "cell_type": "code",
   "execution_count": 34,
   "source": [
    "total_months = 0\r\n",
    "prev_revenue = 0\r\n",
    "month_of_change = []\r\n",
    "revenue_change_list = []\r\n",
    "greatest_increase = ['',0]\r\n",
    "greatest_decrease = ['',9999999]\r\n",
    "total_revenue = 0\r\n"
   ],
   "outputs": [],
   "metadata": {}
  },
  {
   "cell_type": "code",
   "execution_count": 35,
   "source": [
    "with open(PyBank) as revenue_data:\r\n",
    "    reader = csv.DictReader(revenue_data)\r\n",
    "    for row in reader:\r\n",
    "        total_months = total_months + 1\r\n",
    "        total_revenue = total_revenue + int(row[\"Profit/Losses\"])\r\n",
    "        revenue_change = int(row[\"Profit/Losses\"]) - prev_revenue\r\n",
    "        prev_revenue = int(row[\"Profit/Losses\"])\r\n",
    "        revenue_change_list = revenue_change_list + [revenue_change]\r\n",
    "        month_of_change = month_of_change + [row['Date']]"
   ],
   "outputs": [],
   "metadata": {}
  },
  {
   "cell_type": "code",
   "execution_count": 36,
   "source": [
    "if revenue_change > greatest_increase[1]:\r\n",
    "    greatest_increase[1] = row['Date']\r\n",
    "    greatest_increase[1] = revenue_change"
   ],
   "outputs": [],
   "metadata": {}
  },
  {
   "cell_type": "code",
   "execution_count": 37,
   "source": [
    "if revenue_change < greatest_decrease[1]:\r\n",
    "    greatest_decrease[1] = row['Date']\r\n",
    "    greatest_decrease[1] = revenue_change\r\n",
    "\r\n",
    "revenue_avg = sum(revenue_change_list) / len(revenue_change_list)"
   ],
   "outputs": [],
   "metadata": {}
  },
  {
   "cell_type": "code",
   "execution_count": 38,
   "source": [
    "output = (\r\n",
    "    f\"\\nFinancial Analysis\\n\"\r\n",
    "    f\"---------------------------------\\n\"\r\n",
    "    f\"Total Months: {total_months}\\n\"\r\n",
    "    f\"Total Revenue: ${total_revenue}\\n\"\r\n",
    "    f\"Average Revenue Change: ${revenue_avg}\\n\"\r\n",
    "    f\"Greatest Increase in Revenue: {greatest_increase[0]} (${greatest_increase[1]})\\n\"\r\n",
    "    f\"Greatest Decrease in Revenue: {greatest_decrease[0]} (${greatest_decrease[1]})\\n\"\r\n",
    ")"
   ],
   "outputs": [],
   "metadata": {}
  },
  {
   "cell_type": "code",
   "execution_count": 39,
   "source": [
    "print(output)\r\n"
   ],
   "outputs": [
    {
     "output_type": "stream",
     "name": "stdout",
     "text": [
      "\n",
      "Financial Analysis\n",
      "---------------------------------\n",
      "Total Months: 86\n",
      "Total Revenue: $38382578\n",
      "Average Revenue Change: $7803.476744186047\n",
      "Greatest Increase in Revenue:  ($532869)\n",
      "Greatest Decrease in Revenue:  ($532869)\n",
      "\n"
     ]
    }
   ],
   "metadata": {}
  },
  {
   "cell_type": "code",
   "execution_count": null,
   "source": [],
   "outputs": [],
   "metadata": {}
  }
 ],
 "metadata": {
  "orig_nbformat": 4,
  "language_info": {
   "name": "python",
   "version": "3.9.2",
   "mimetype": "text/x-python",
   "codemirror_mode": {
    "name": "ipython",
    "version": 3
   },
   "pygments_lexer": "ipython3",
   "nbconvert_exporter": "python",
   "file_extension": ".py"
  },
  "kernelspec": {
   "name": "python3",
   "display_name": "Python 3.9.2 64-bit"
  },
  "interpreter": {
   "hash": "63fd5069d213b44bf678585dea6b12cceca9941eaf7f819626cde1f2670de90d"
  }
 },
 "nbformat": 4,
 "nbformat_minor": 2
}